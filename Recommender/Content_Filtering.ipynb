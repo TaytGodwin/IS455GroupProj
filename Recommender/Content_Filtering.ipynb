{
 "cells": [
  {
   "cell_type": "code",
   "execution_count": null,
   "metadata": {},
   "outputs": [
    {
     "ename": "",
     "evalue": "",
     "output_type": "error",
     "traceback": [
      "\u001b[1;31mRunning cells with 'Python 3.13.1' requires the ipykernel package.\n",
      "\u001b[1;31mRun the following command to install 'ipykernel' into the Python environment. \n",
      "\u001b[1;31mCommand: '/opt/homebrew/bin/python3 -m pip install ipykernel -U --user --force-reinstall'"
     ]
    }
   ],
   "source": [
    "import pandas as pd\n",
    "from sklearn.feature_extraction.text import TfidfVectorizer\n",
    "from sklearn.metrics.pairwise import linear_kernel\n",
    "  \n",
    "df_articles = pd.read_csv('shared_articles.csv')\n",
    "df_articles.head()"
   ]
  },
  {
   "cell_type": "code",
   "execution_count": null,
   "metadata": {},
   "outputs": [],
   "source": [
    "print(df_articles.shape)\n",
    "df_articles.isna().sum()"
   ]
  },
  {
   "cell_type": "code",
   "execution_count": null,
   "metadata": {},
   "outputs": [],
   "source": [
    "df_articles.authorUserAgent.fillna('unknown', inplace=True)\n",
    "df_articles.authorRegion.fillna('unknown', inplace=True)\n",
    "df_articles.authorCountry.fillna('unknown', inplace=True)\n",
    "\n",
    "      \n",
    "# Very important step\n",
    "df_articles.reset_index(inplace=True)\n",
    "      \n",
    "print(df_articles.isna().sum(), '\\n')\n",
    "df_articles.shape"
   ]
  },
  {
   "cell_type": "code",
   "execution_count": null,
   "metadata": {},
   "outputs": [],
   "source": [
    "from sklearn.feature_extraction.text import TfidfVectorizer\n",
    "          \n",
    "# Create a TfidfVectorizer and Remove stopwords\n",
    "tfidf = TfidfVectorizer(stop_words='english')\n",
    "        \n",
    "# Fit and transform the data to a tfidf matrix\n",
    "tfidf_matrix = tfidf.fit_transform(df_articles['text'])\n",
    "        \n",
    "# Print the shape of the tfidf_matrix\n",
    "print(tfidf_matrix.shape)\n",
    "        \n",
    "# Preview the matrix by placing it into a DataFrame (which we won't need later)\n",
    "df_tfidf = pd.DataFrame(tfidf_matrix.T.todense(), index=tfidf.get_feature_names_out(), columns=df_articles['title'])\n",
    "df_tfidf.iloc[2221:2226]\n",
    "      \n",
    "# Output\n",
    "# (8803, 18891)"
   ]
  },
  {
   "cell_type": "code",
   "execution_count": null,
   "metadata": {},
   "outputs": [],
   "source": [
    "from sklearn.metrics.pairwise import linear_kernel\n",
    "\n",
    "# Compute the cosine similarity between each movie description\n",
    "cosine_sim = linear_kernel(tfidf_matrix, tfidf_matrix)\n",
    "      \n",
    "# For easier viewing, put it in a dataframe\n",
    "pd.DataFrame(cosine_sim)"
   ]
  },
  {
   "cell_type": "code",
   "execution_count": null,
   "metadata": {},
   "outputs": [],
   "source": [
    "df_sorted = pd.DataFrame(cosine_sim).sort_values(by=[0], ascending=False)\n",
    "\n",
    "for id in df_sorted.index[0:4]:\n",
    "    print(id, '\\t', df_articles.loc[id, 'title'])\n",
    "        \n",
    "display(df_sorted)"
   ]
  },
  {
   "cell_type": "code",
   "execution_count": null,
   "metadata": {},
   "outputs": [],
   "source": [
    "def get_recommendations(contentId, sim_matrix, n=10, messages=True):\n",
    "        \n",
    "    # Get the pairwise similarity scores of all articles with that article\n",
    "    sim_scores = list(enumerate(sim_matrix[contentId]))\n",
    "        \n",
    "    # Sort the items based on the similarity scores\n",
    "    sim_scores = sorted(sim_scores, key=lambda x: x[1], reverse=True)\n",
    "        \n",
    "    # Get the scores of the n most similar items; start at 1 so that it skips itself\n",
    "    top_similar = sim_scores[1:n+1]\n",
    "        \n",
    "    # Put the recommended item indices and similarity scores together in a dictionary using comprehension\n",
    "    rec_dict = {i[0]:i[1] for i in top_similar}\n",
    "        \n",
    "    if messages:\n",
    "        print(f\"The top recommended item IDs are: {list(rec_dict.keys())}\")\n",
    "        print(f\"Their similarity scores are:\\t  {list(rec_dict.values())}\")\n",
    "        \n",
    "    # Return the top n most similar items\n",
    "    return rec_dict"
   ]
  },
  {
   "cell_type": "code",
   "execution_count": null,
   "metadata": {},
   "outputs": [],
   "source": [
    "# Change this value to any title you'd like to get recommendations\n",
    "title = \"Google Data Center 360° Tour\"\n",
    "        \n",
    "# Check if the title is valid; if not, suggest alternatives and use the last one for recommendations\n",
    "if title in df_articles['title'].to_list():\n",
    "  id = df_articles.index[df_articles['title']==title][0] # Convert the title to an index (i.e. item ID)\n",
    "else:\n",
    "  print(f\"\\\"{title}\\\" is not in the data set. Try one of these:\\n\")\n",
    "  for row in df_articles.sample(n=10).itertuples():  # Get a random 10 titles\n",
    "    id = row[0]\n",
    "    title = row.title\n",
    "    print(f'\\t{title}')\n",
    "        \n",
    "print(f\"\\nIf you like \\\"{title},\\\" then you may also like:\\n\")\n",
    "        \n",
    "# Call the function and return the dictionary; print out the dictionary if you want to see what it is\n",
    "recommend_dict = get_recommendations(id, cosine_sim, n=10, messages=False)\n",
    "        \n",
    "# Add the dictionary to a new DataFrame; this isn't necessary, but it helps to see what articles are recommended\n",
    "df_similarity = pd.DataFrame(data=recommend_dict.values(), columns=['similarity'], index=recommend_dict.keys())\n",
    "        \n",
    "# Create a subset of the original df DataFrame with only the recommended articles\n",
    "df_recommendations = df_articles.loc[df_articles.index.isin(recommend_dict.keys()), ['title',\t'text']]\n",
    "        \n",
    "# Join the original df results with the recommended article similarity scores so that we can sort the list and view it\n",
    "df_recommendations.join(df_similarity).sort_values(by=['similarity'], ascending=False)"
   ]
  },
  {
   "cell_type": "code",
   "execution_count": null,
   "metadata": {},
   "outputs": [],
   "source": [
    "import joblib\n",
    "\n",
    "joblib.dump(cosine_sim, 'cosine_similarity_matrix.sav')\n",
    "\n",
    "joblib.dump(tfidf, 'tfidf_vectorizer.sav')\n"
   ]
  }
 ],
 "metadata": {
  "kernelspec": {
   "display_name": "Python 3",
   "language": "python",
   "name": "python3"
  },
  "language_info": {
   "codemirror_mode": {
    "name": "ipython",
    "version": 3
   },
   "file_extension": ".py",
   "mimetype": "text/x-python",
   "name": "python",
   "nbconvert_exporter": "python",
   "pygments_lexer": "ipython3",
   "version": "3.13.1"
  }
 },
 "nbformat": 4,
 "nbformat_minor": 2
}
